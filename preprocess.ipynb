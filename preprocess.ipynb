{
 "cells": [
  {
   "cell_type": "code",
   "execution_count": 16,
   "metadata": {},
   "outputs": [],
   "source": [
    "# imports for data processing\n",
    "import os\n",
    "import mediapipe as mp\n",
    "import numpy as np\n",
    "import cv2\n",
    "import random"
   ]
  },
  {
   "cell_type": "code",
   "execution_count": 17,
   "metadata": {},
   "outputs": [],
   "source": [
    "# data dir paths\n",
    "unprocessed_data_dir = 'datasets/data/unprocessed'\n",
    "processed_data_dir = 'datasets/data/new_unprocessed'\n",
    "test_data_dir = 'datasets/data/test_unprocessed_new'"
   ]
  },
  {
   "cell_type": "code",
   "execution_count": 18,
   "metadata": {},
   "outputs": [],
   "source": [
    "def flip_image(image):\n",
    "    # write a function to flip the image \n",
    "    fliped = cv2.flip(image,1)\n",
    "    return fliped \n",
    "    \n",
    "\n",
    "def rotate_image(image, angle_range=(-10, 10)):\n",
    "    # rotate the image \n",
    "    # choose a random angle between 10 degree \n",
    "    angle_extent  = random.uniform(angle_range[0], angle_range[1])\n",
    "\n",
    "    if angle_extent != 0:\n",
    "        rows, cols = image.shape[:2]\n",
    "        rotation_matrix = cv2.getRotationMatrix2D((cols / 2, rows / 2), angle_extent, 1)\n",
    "        # make background white\n",
    "        image = cv2.warpAffine(image, rotation_matrix, (cols, rows),borderValue=(255,255,255))\n",
    "    return image"
   ]
  },
  {
   "cell_type": "code",
   "execution_count": 19,
   "metadata": {},
   "outputs": [],
   "source": [
    "def resize_image(image, height_factor=1.1, width_factor=1.05):\n",
    "    # Calculate the new dimensions after resizing\n",
    "    height, width = image.shape[:2]\n",
    "    new_height = int(height * height_factor)\n",
    "    new_width = int(width * width_factor)\n",
    "\n",
    "    # Resize the image to the new dimensions using cubic interpolation\n",
    "    resized_image = cv2.resize(image, (new_width, new_height), interpolation=cv2.INTER_CUBIC)\n",
    "    return resized_image"
   ]
  },
  {
   "cell_type": "code",
   "execution_count": 31,
   "metadata": {},
   "outputs": [],
   "source": [
    "def shear_image(image, shear_factor=0.2):\n",
    "    # Define the transformation matrix for shearing\n",
    "    shear_matrix = np.float32([[1, shear_factor, 0], [0, 1, 0]])\n",
    "\n",
    "    # Apply the shearing transformation to the image\n",
    "    sheared_image = cv2.warpAffine(image, shear_matrix, (image.shape[1], image.shape[0]),borderValue=(255,255,255))\n",
    "    return sheared_image\n"
   ]
  },
  {
   "cell_type": "code",
   "execution_count": 32,
   "metadata": {},
   "outputs": [],
   "source": [
    "def zoom_image(image, zoom_factor=1.2):\n",
    "    # Calculate the new dimensions after zooming\n",
    "    height, width = image.shape[:2]\n",
    "    new_height = int(height * zoom_factor)\n",
    "    new_width = int(width * zoom_factor)\n",
    "\n",
    "    # Resize the image to the new dimensions using cubic interpolation\n",
    "    zoomed_image = cv2.resize(image, (new_width, new_height), interpolation=cv2.INTER_CUBIC)\n",
    "    return zoomed_image"
   ]
  },
  {
   "cell_type": "code",
   "execution_count": 33,
   "metadata": {},
   "outputs": [],
   "source": [
    "image_path = \"830.jpg\"\n",
    "image = cv2.imread(image_path)\n",
    "\n",
    "fliped_image = flip_image(image)\n",
    "rotated_image = rotate_image(image)\n",
    "zoomed_image = zoom_image(image,1.2)\n",
    "sheared_image = shear_image(image)\n",
    "resized_image = resize_image(image)\n"
   ]
  },
  {
   "cell_type": "code",
   "execution_count": 23,
   "metadata": {},
   "outputs": [],
   "source": [
    "# save the image into the directory \n"
   ]
  },
  {
   "cell_type": "code",
   "execution_count": 34,
   "metadata": {},
   "outputs": [
    {
     "data": {
      "text/plain": [
       "True"
      ]
     },
     "execution_count": 34,
     "metadata": {},
     "output_type": "execute_result"
    }
   ],
   "source": [
    "cv2.imwrite('fliped.jpg',fliped_image)\n",
    "cv2.imwrite('rotated.jpg',rotated_image)\n",
    "cv2.imwrite('zoomed_image.jpg',zoomed_image)\n",
    "cv2.imwrite('sheared_image.jpg',sheared_image)\n",
    "cv2.imwrite('resized_imaeg.jpg',resized_image)\n"
   ]
  },
  {
   "cell_type": "code",
   "execution_count": 10,
   "metadata": {},
   "outputs": [],
   "source": [
    "cv2.waitKey(0)\n",
    "cv2.destroyAllWindows()"
   ]
  },
  {
   "cell_type": "markdown",
   "metadata": {},
   "source": []
  },
  {
   "cell_type": "code",
   "execution_count": null,
   "metadata": {},
   "outputs": [],
   "source": []
  }
 ],
 "metadata": {
  "kernelspec": {
   "display_name": "myenv",
   "language": "python",
   "name": "python3"
  },
  "language_info": {
   "codemirror_mode": {
    "name": "ipython",
    "version": 3
   },
   "file_extension": ".py",
   "mimetype": "text/x-python",
   "name": "python",
   "nbconvert_exporter": "python",
   "pygments_lexer": "ipython3",
   "version": "3.10.5"
  }
 },
 "nbformat": 4,
 "nbformat_minor": 2
}
