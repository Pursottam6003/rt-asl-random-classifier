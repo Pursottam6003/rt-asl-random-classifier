{
 "cells": [
  {
   "cell_type": "code",
   "execution_count": null,
   "metadata": {},
   "outputs": [],
   "source": [
    "import os \n",
    "import cv2\n",
    "import mediapipe as mp\n",
    "import numpy as np "
   ]
  },
  {
   "cell_type": "code",
   "execution_count": null,
   "metadata": {},
   "outputs": [],
   "source": [
    "\n",
    "mp_drawing = mp.solutions.drawing_utils\n",
    "mp_hands = mp.solutions.hands\n",
    "hands = mp_hands.Hands(\n",
    "    static_image_mode=False, min_detection_confidence=0.9, min_tracking_confidence=0.9\n",
    ")"
   ]
  },
  {
   "cell_type": "code",
   "execution_count": 9,
   "metadata": {},
   "outputs": [],
   "source": [
    "DATA_DIR = \"./data\"\n",
    "if not os.path.exists(DATA_DIR):\n",
    "    os.makedirs(DATA_DIR)\n",
    "\n",
    "num_classes = 27\n",
    "dataset_size = 1000\n"
   ]
  },
  {
   "cell_type": "code",
   "execution_count": 15,
   "metadata": {},
   "outputs": [],
   "source": [
    "# media pipe hands object\n",
    "mp_drawing = mp.solutions.drawing_utils\n",
    "mp_hands = mp.solutions.hands\n",
    "hands = mp_hands.Hands(\n",
    "    static_image_mode=False, min_detection_confidence=0.9, min_tracking_confidence=0.9\n",
    ")\n",
    "\n",
    "# function to create image with landmarks\n",
    "def get_hand_landmarks_image(frame):\n",
    "    image_rgb = cv2.cvtColor(frame, cv2.COLOR_BGR2RGB)\n",
    "\n",
    "    # draw landmarks on blank 224x224 white image\n",
    "    output_img = np.ones((224, 224, 3), np.uint8) * 255\n",
    "\n",
    "    results = hands.process(image_rgb)\n",
    "\n",
    "    if results.multi_hand_landmarks:\n",
    "        for hand_landmarks in results.multi_hand_landmarks:\n",
    "            mp_drawing.draw_landmarks(\n",
    "                output_img,\n",
    "                hand_landmarks,\n",
    "                mp_hands.HAND_CONNECTIONS,\n",
    "                landmark_drawing_spec=mp_drawing.DrawingSpec(color=(20,20,20), thickness=2, circle_radius=2),\n",
    "                connection_drawing_spec=mp_drawing.DrawingSpec(color=(20,20,20), thickness=2, circle_radius=2),\n",
    "            )\n",
    "    return bool(results.multi_hand_landmarks), output_img\n",
    "\n",
    "# function to get processed image with edge detection of hand by applying grayscale, blur and edge detection\n",
    "def get_processed_image(frame):\n",
    "    # minValue = 70\n",
    "    # gray = cv2.cvtColor(frame, cv2.COLOR_BGR2GRAY)\n",
    "    # blur = cv2.GaussianBlur(gray,(5,5),2)\n",
    "\n",
    "    # th3 = cv2.adaptiveThreshold(blur,255,cv2.ADAPTIVE_THRESH_GAUSSIAN_C,cv2.THRESH_BINARY_INV,11,2)\n",
    "    # ret, res = cv2.threshold(th3, minValue, 255, cv2.THRESH_BINARY_INV+cv2.THRESH_OTSU)\n",
    "    res = cv2.cvtColor(res, cv2.COLOR_GRAY2BGR)\n",
    "\n",
    "    return True,res"
   ]
  },
  {
   "cell_type": "code",
   "execution_count": 16,
   "metadata": {},
   "outputs": [],
   "source": [
    "# data dir paths\n",
    "unprocessed_data_dir = 'new/unprocessed'\n",
    "processed_data_dir = 'new/new_unprocessed'\n",
    "test_data_dir = 'new/test_unprocessed_new'"
   ]
  },
  {
   "cell_type": "code",
   "execution_count": 13,
   "metadata": {},
   "outputs": [
    {
     "ename": "FileNotFoundError",
     "evalue": "[WinError 3] The system cannot find the path specified: 'new/unprocessed'",
     "output_type": "error",
     "traceback": [
      "\u001b[1;31m---------------------------------------------------------------------------\u001b[0m",
      "\u001b[1;31mFileNotFoundError\u001b[0m                         Traceback (most recent call last)",
      "Cell \u001b[1;32mIn[13], line 5\u001b[0m\n\u001b[0;32m      2\u001b[0m img_processing_func \u001b[38;5;241m=\u001b[39m get_processed_image\n\u001b[0;32m      4\u001b[0m \u001b[38;5;66;03m# loop through all directores in unprocessed_data_dir\u001b[39;00m\n\u001b[1;32m----> 5\u001b[0m \u001b[38;5;28;01mfor\u001b[39;00m \u001b[38;5;28mdir\u001b[39m \u001b[38;5;129;01min\u001b[39;00m \u001b[43mos\u001b[49m\u001b[38;5;241;43m.\u001b[39;49m\u001b[43mlistdir\u001b[49m\u001b[43m(\u001b[49m\u001b[43munprocessed_data_dir\u001b[49m\u001b[43m)\u001b[49m:\n\u001b[0;32m      6\u001b[0m     \u001b[38;5;28mprint\u001b[39m(\u001b[38;5;124mf\u001b[39m\u001b[38;5;124m'\u001b[39m\u001b[38;5;124mProcessing \u001b[39m\u001b[38;5;132;01m{\u001b[39;00m\u001b[38;5;28mdir\u001b[39m\u001b[38;5;132;01m}\u001b[39;00m\u001b[38;5;124m...\u001b[39m\u001b[38;5;124m'\u001b[39m, end\u001b[38;5;241m=\u001b[39m\u001b[38;5;124m'\u001b[39m\u001b[38;5;124m'\u001b[39m)\n\u001b[0;32m      8\u001b[0m     \u001b[38;5;66;03m# create output dir and test dir\u001b[39;00m\n",
      "\u001b[1;31mFileNotFoundError\u001b[0m: [WinError 3] The system cannot find the path specified: 'new/unprocessed'"
     ]
    }
   ],
   "source": [
    "# function for preprocessing images\n",
    "img_processing_func = get_processed_image\n",
    "\n",
    "# loop through all directores in unprocessed_data_dir\n",
    "for dir in os.listdir(unprocessed_data_dir):\n",
    "    print(f'Processing {dir}...', end='')\n",
    "\n",
    "    # create output dir and test dir\n",
    "    output_dir = os.path.join(processed_data_dir, dir)\n",
    "    os.makedirs(output_dir, exist_ok=True)\n",
    "\n",
    "    # loop through all files in dir\n",
    "    for file in os.listdir(os.path.join(unprocessed_data_dir, dir)):\n",
    "        # load image\n",
    "        image_rgb = cv2.imread(os.path.join(unprocessed_data_dir, dir, file))\n",
    "\n",
    "        # process image\n",
    "        ret, processed_image = img_processing_func(image_rgb)\n",
    "\n",
    "        # save image\n",
    "        if ret:\n",
    "            cv2.imwrite(os.path.join(output_dir, file), processed_image)\n",
    "        else:\n",
    "            print(f'  Error in pre-processing {dir}/{file}')\n",
    "    \n",
    "    print(f'Done!')"
   ]
  },
  {
   "cell_type": "code",
   "execution_count": 17,
   "metadata": {},
   "outputs": [
    {
     "name": "stdout",
     "output_type": "stream",
     "text": [
      "Capturing images for A..."
     ]
    },
    {
     "ename": "TypeError",
     "evalue": "cannot unpack non-iterable bool object",
     "output_type": "error",
     "traceback": [
      "\u001b[1;31m---------------------------------------------------------------------------\u001b[0m",
      "\u001b[1;31mTypeError\u001b[0m                                 Traceback (most recent call last)",
      "Cell \u001b[1;32mIn[17], line 20\u001b[0m\n\u001b[0;32m     17\u001b[0m frame \u001b[38;5;241m=\u001b[39m cv2\u001b[38;5;241m.\u001b[39mresize(frame, (\u001b[38;5;241m224\u001b[39m, \u001b[38;5;241m224\u001b[39m))\n\u001b[0;32m     19\u001b[0m \u001b[38;5;66;03m# get hand landmarks image with mediapipe\u001b[39;00m\n\u001b[1;32m---> 20\u001b[0m success, hand_landmarks_img \u001b[38;5;241m=\u001b[39m img_processing_func(frame)\n\u001b[0;32m     22\u001b[0m \u001b[38;5;66;03m# save image\u001b[39;00m\n\u001b[0;32m     23\u001b[0m \u001b[38;5;28;01mif\u001b[39;00m success:\n",
      "\u001b[1;31mTypeError\u001b[0m: cannot unpack non-iterable bool object"
     ]
    }
   ],
   "source": [
    "cap = cv2.VideoCapture(0)\n",
    "# create dataset for ASL characters A-Z and blank\n",
    "\n",
    "class_labels = ['A', 'B', 'C', 'D', 'E', 'F', 'G', 'H', 'I', 'J', 'K', 'L', 'M', 'N', 'O', 'P', 'Q', 'R', 'S', 'T', 'U', 'V', 'W', 'X', 'Y', 'Z', 'blank']\n",
    "n_images_per_class = 100\n",
    "\n",
    "for index, label in enumerate(class_labels):\n",
    "    # os.makedirs(os.path.join(processed_data_dir, str(index)), exist_ok=True)\n",
    "    curr_img = 0\n",
    "    print(f\"Capturing images for {label}...\", end='')\n",
    "    while curr_img < n_images_per_class:\n",
    "        ret, frame = cap.read()\n",
    "        if not ret: continue\n",
    "\n",
    "        # Preprocess the frame to match the input size of the model and scale the pixel values\n",
    "        frame = frame[:, 80:560]\n",
    "        frame = cv2.resize(frame, (224, 224))\n",
    "\n",
    "        # get hand landmarks image with mediapipe\n",
    "        success, hand_landmarks_img = img_processing_func(frame)\n",
    "\n",
    "        # save image\n",
    "        if success:\n",
    "            cv2.imwrite(os.path.join(processed_data_dir, str(index), f'{curr_img+n_images_per_class+1}.jpg'), hand_landmarks_img)\n",
    "            curr_img += 1\n",
    "\n",
    "        preview_img = hand_landmarks_img.copy()\n",
    "        frame_label = f'Finished {label}. press space' if curr_img == n_images_per_class else f'{label} {curr_img}/{n_images_per_class-1}' \n",
    "        cv2.putText(preview_img, frame_label, (10, 30), cv2.FONT_HERSHEY_SIMPLEX, 0.8, (0, 0, 200), 2, cv2.LINE_AA)\n",
    "        cv2.imshow('Preview', preview_img)\n",
    "\n",
    "        if curr_img == n_images_per_class:\n",
    "            print(\"Done!\")\n",
    "            while True:\n",
    "                if cv2.waitKey(1) & 0xFF == ord(' '):\n",
    "                    break\n",
    "        \n",
    "        if cv2.waitKey(1) & 0xFF == ord('q'):\n",
    "            break\n",
    "        cv2.waitKey(200)\n",
    "\n",
    "cap.release()\n",
    "cv2.destroyAllWindows()"
   ]
  },
  {
   "cell_type": "code",
   "execution_count": 18,
   "metadata": {},
   "outputs": [],
   "source": [
    "cv2.waitKey(0)\n",
    "cv2.destroyAllWindows()"
   ]
  },
  {
   "cell_type": "code",
   "execution_count": 10,
   "metadata": {},
   "outputs": [
    {
     "name": "stdout",
     "output_type": "stream",
     "text": [
      "Collecting data\n"
     ]
    },
    {
     "ename": "KeyboardInterrupt",
     "evalue": "",
     "output_type": "error",
     "traceback": [
      "\u001b[1;31m---------------------------------------------------------------------------\u001b[0m",
      "\u001b[1;31mKeyboardInterrupt\u001b[0m                         Traceback (most recent call last)",
      "Cell \u001b[1;32mIn[10], line 24\u001b[0m\n\u001b[0;32m     22\u001b[0m     cv2\u001b[38;5;241m.\u001b[39mputText(frame, \u001b[38;5;124m\"\u001b[39m\u001b[38;5;124mPress \u001b[39m\u001b[38;5;124m'\u001b[39m\u001b[38;5;124m1\u001b[39m\u001b[38;5;124m'\u001b[39m\u001b[38;5;124m \u001b[39m\u001b[38;5;124m\"\u001b[39m, (\u001b[38;5;241m10\u001b[39m, \u001b[38;5;241m50\u001b[39m), cv2\u001b[38;5;241m.\u001b[39mFONT_HERSHEY_SIMPLEX, \u001b[38;5;241m1.3\u001b[39m, (\u001b[38;5;241m255\u001b[39m, \u001b[38;5;241m255\u001b[39m, \u001b[38;5;241m255\u001b[39m), \u001b[38;5;241m3\u001b[39m, cv2\u001b[38;5;241m.\u001b[39mLINE_AA)\n\u001b[0;32m     23\u001b[0m     cv2\u001b[38;5;241m.\u001b[39mimshow(\u001b[38;5;124m\"\u001b[39m\u001b[38;5;124mFrame\u001b[39m\u001b[38;5;124m\"\u001b[39m, frame)\n\u001b[1;32m---> 24\u001b[0m     \u001b[38;5;28;01mif\u001b[39;00m \u001b[43mcv2\u001b[49m\u001b[38;5;241;43m.\u001b[39;49m\u001b[43mwaitKey\u001b[49m\u001b[43m(\u001b[49m\u001b[38;5;241;43m25\u001b[39;49m\u001b[43m)\u001b[49m \u001b[38;5;241m==\u001b[39m \u001b[38;5;28mord\u001b[39m(\u001b[38;5;124m\"\u001b[39m\u001b[38;5;124m1\u001b[39m\u001b[38;5;124m\"\u001b[39m):\n\u001b[0;32m     25\u001b[0m         \u001b[38;5;28;01mbreak\u001b[39;00m\n\u001b[0;32m     27\u001b[0m count \u001b[38;5;241m=\u001b[39m \u001b[38;5;241m0\u001b[39m\n",
      "\u001b[1;31mKeyboardInterrupt\u001b[0m: "
     ]
    }
   ],
   "source": [
    "# DEPENDENCIES ------>\n",
    "import os\n",
    "import cv2\n",
    "\n",
    "\n",
    "DATA_DIR = \"./data\"\n",
    "if not os.path.exists(DATA_DIR):\n",
    "    os.makedirs(DATA_DIR)\n",
    "\n",
    "num_classes = 16\n",
    "dataset_size = 200\n",
    "\n",
    "cap = cv2.VideoCapture(0)\n",
    "for i in range(num_classes):\n",
    "    if not os.path.exists(os.path.join(DATA_DIR, str(i))):\n",
    "        os.makedirs(os.path.join(DATA_DIR, str(i+10)))\n",
    "    print(\"Collecting data\")\n",
    "    done = False\n",
    "\n",
    "    while True:\n",
    "        ret, frame = cap.read()\n",
    "        cv2.putText(frame, \"Press '1' \", (10, 50), cv2.FONT_HERSHEY_SIMPLEX, 1.3, (255, 255, 255), 3, cv2.LINE_AA)\n",
    "        cv2.imshow(\"Frame\", frame)\n",
    "        if cv2.waitKey(25) == ord(\"1\"):\n",
    "            break\n",
    "\n",
    "    count = 0\n",
    "    while count < dataset_size:\n",
    "        ret, frame = cap.read()\n",
    "        cv2.imshow(\"Frame\", frame)\n",
    "        cv2.waitKey(25)\n",
    "        cv2.imwrite(os.path.join(DATA_DIR, str(i+10), \"{}.jpg\".format(count)), frame)\n",
    "        count += 1\n",
    "        print(\"Images saved: \", count)\n",
    "\n",
    "cap.release()\n",
    "cv2.destroyAllWindows()"
   ]
  },
  {
   "cell_type": "code",
   "execution_count": null,
   "metadata": {},
   "outputs": [],
   "source": []
  }
 ],
 "metadata": {
  "kernelspec": {
   "display_name": "myenv",
   "language": "python",
   "name": "python3"
  },
  "language_info": {
   "codemirror_mode": {
    "name": "ipython",
    "version": 3
   },
   "file_extension": ".py",
   "mimetype": "text/x-python",
   "name": "python",
   "nbconvert_exporter": "python",
   "pygments_lexer": "ipython3",
   "version": "3.10.5"
  }
 },
 "nbformat": 4,
 "nbformat_minor": 2
}
